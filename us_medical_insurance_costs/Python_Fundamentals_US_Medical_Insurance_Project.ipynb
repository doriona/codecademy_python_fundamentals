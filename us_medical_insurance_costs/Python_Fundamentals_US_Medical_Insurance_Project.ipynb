{
 "cells": [
  {
   "cell_type": "markdown",
   "id": "751836fa",
   "metadata": {},
   "source": [
    "# Python Fundamentals - US Medical Insurance Project\n",
    "## Introduction\n",
    "\n",
    "\n",
    "\n",
    "## Datasets\n",
    "\n",
    "The dataset comes from [Kaggle Dataset - Medical Cost Personal Datasets](https://www.kaggle.com/mirichoi0218/insurance?select=insurance.csv).  It is a dataset thwt is in the public domain, but that was formatted to match the format used in the book 'Machine Learning with R'.\n",
    "\n",
    "It can be directly downloaded [here](https://raw.githubusercontent.com/stedy/Machine-Learning-with-R-datasets/master/insurance.csv)\n",
    "\n",
    "The dataset is also provided by codecademy [here](https://content.codecademy.com/PRO/paths/data-science/python-portfolio-project-starter-files.zip). Will have to check if 'insurance.csv' is the same in this case. Using the one from GitHub for now. \n",
    "\n",
    "### Columns\n",
    "\n",
    "+ age: age of primary beneficiary\n",
    "\n",
    "\n",
    "+ sex: insurance contractor gender, female, male\n",
    "\n",
    "\n",
    "+ bmi: Body mass index, providing an understanding of body, weights that are relatively high or low relative to height, objective index of body weight (kg / m ^ 2) using the ratio of height to weight, ideally 18.5 to 24.9\n",
    "\n",
    "\n",
    "+ children: Number of children covered by health insurance / Number of dependents\n",
    "\n",
    "\n",
    "+ smoker: Smoking\n",
    "\n",
    "\n",
    "+ region: the beneficiary's residential area in the US, northeast, southeast, southwest, northwest.\n",
    "\n",
    "\n",
    "+ charges: Individual medical costs billed by health insurance\n",
    "\n",
    "#### Inspect the dataset"
   ]
  },
  {
   "cell_type": "code",
   "execution_count": 1,
   "id": "d0007152",
   "metadata": {},
   "outputs": [],
   "source": [
    "import csv\n",
    "with open('./materials/insurance.csv', newline = '') as insurance_file:\n",
    "    insurance_data = csv.DictReader(insurance_file)\n",
    "    insurance_list = [row for row in insurance_data]"
   ]
  },
  {
   "cell_type": "markdown",
   "id": "d32f1176",
   "metadata": {},
   "source": [
    "### Check imported data:"
   ]
  },
  {
   "cell_type": "code",
   "execution_count": 2,
   "id": "dedd0fcb",
   "metadata": {},
   "outputs": [
    {
     "name": "stdout",
     "output_type": "stream",
     "text": [
      "[{'age': '19', 'sex': 'female', 'bmi': '27.9', 'children': '0', 'smoker': 'yes', 'region': 'southwest', 'charges': '16884.924'}, {'age': '18', 'sex': 'male', 'bmi': '33.77', 'children': '1', 'smoker': 'no', 'region': 'southeast', 'charges': '1725.5523'}, {'age': '28', 'sex': 'male', 'bmi': '33', 'children': '3', 'smoker': 'no', 'region': 'southeast', 'charges': '4449.462'}, {'age': '33', 'sex': 'male', 'bmi': '22.705', 'children': '0', 'smoker': 'no', 'region': 'northwest', 'charges': '21984.47061'}]\n"
     ]
    }
   ],
   "source": [
    "print(insurance_list[0:4])"
   ]
  },
  {
   "cell_type": "code",
   "execution_count": 3,
   "id": "3a08e18b",
   "metadata": {},
   "outputs": [
    {
     "data": {
      "text/plain": [
       "{'northeast', 'northwest', 'southeast', 'southwest'}"
      ]
     },
     "execution_count": 3,
     "metadata": {},
     "output_type": "execute_result"
    }
   ],
   "source": [
    "set([ row['region'] for row in insurance_list])"
   ]
  },
  {
   "cell_type": "code",
   "execution_count": 4,
   "id": "effd7f5a",
   "metadata": {},
   "outputs": [
    {
     "data": {
      "text/plain": [
       "{'female', 'male'}"
      ]
     },
     "execution_count": 4,
     "metadata": {},
     "output_type": "execute_result"
    }
   ],
   "source": [
    "set([row['sex'] for row in insurance_list])"
   ]
  },
  {
   "cell_type": "code",
   "execution_count": 5,
   "id": "0c7b5cdc",
   "metadata": {},
   "outputs": [
    {
     "data": {
      "text/plain": [
       "{'0', '1', '2', '3', '4', '5'}"
      ]
     },
     "execution_count": 5,
     "metadata": {},
     "output_type": "execute_result"
    }
   ],
   "source": [
    "set([row['children'] for row in insurance_list])"
   ]
  },
  {
   "cell_type": "markdown",
   "id": "db2f3247",
   "metadata": {},
   "source": [
    "## Objectives - Scope\n",
    "\n",
    "Project Objectives Defined by Codecademy (sublevels mine) :\n",
    "\n",
    "+ Work locally on your own computer: \n",
    "    + Work with Jupyter Notebooks\n",
    "     \n",
    "    + Use Git/GitHub for version control\n",
    "\n",
    "\n",
    "+ Import a dataset into your program:\n",
    "    + Source of the dataset\n",
    "    \n",
    "    + Description of the dataset\n",
    "\n",
    "+ Analyze a dataset by building out functions or class methods\n",
    "    + [Explore the dataset](#explore_dataset):\n",
    "       \n",
    "    + Types of variables and categories/distributions of values\n",
    "    \n",
    "    + What functions and classes can we use to organize and work with the data?\n",
    "    \n",
    "    + Relationships/correlations between variables\n",
    "\n",
    "+ Use libraries to assist in your analysis\n",
    "\n",
    "+ Optional: Document and organize your findings\n",
    "    + Keep track of references used in the project\n",
    "       \n",
    "    + Explain the analysis/graphs done\n",
    "    \n",
    "    + Record ideas for next steps or further analysis to do.\n",
    "\n",
    "\n",
    "+ Optional: Make predictions about a dataset’s features based on your findings\n",
    "    + WaitingFor: advancing a little more in the Data Science Course\n",
    "\n",
    "<a id='explore_dataset'></a>\n",
    "### Explore the dataset\n",
    "Look for relationships between the different variables. With the data available, we could:\n",
    "\n",
    "1. Look at distributions of users by the categories provided:\n",
    "    + mean, median, variance\n",
    "    + histograms/bar plots\n",
    "    \n",
    "    \n",
    "2. Look at relationships/correlations between two categorical variables. Ex: \n",
    "    + smoker/non-smoker by sex \n",
    "    + smoker/non-smoker by region\n",
    "\n",
    "    \n",
    "3. Look at relationships/correlations between one categorical variable and one numerical variable:\n",
    "    + age by region\n",
    "    + number of children vs age\n",
    "    + age vs bmi\n",
    "\n",
    "\n",
    "4. Multivariable analysis\n",
    "    + WaitingFor: advancing a little more in the Data Science Course\n",
    "      "
   ]
  },
  {
   "cell_type": "markdown",
   "id": "697dd847",
   "metadata": {},
   "source": [
    "## References\n",
    "* [Data Science Project Scoping Guide](http://www.datasciencepublicpolicy.org/home/resources/data-science-project-scoping-guide/)"
   ]
  }
 ],
 "metadata": {
  "kernelspec": {
   "display_name": "Python 3",
   "language": "python",
   "name": "python3"
  },
  "language_info": {
   "codemirror_mode": {
    "name": "ipython",
    "version": 3
   },
   "file_extension": ".py",
   "mimetype": "text/x-python",
   "name": "python",
   "nbconvert_exporter": "python",
   "pygments_lexer": "ipython3",
   "version": "3.9.1"
  }
 },
 "nbformat": 4,
 "nbformat_minor": 5
}
