{
 "cells": [
  {
   "cell_type": "markdown",
   "id": "3ef7980c",
   "metadata": {},
   "source": [
    "# Python Fundamentals - US Medical Insurance Project\n",
    "## Introduction\n",
    "\n",
    "Project Objectives:\n",
    "\n",
    "+ Work locally on your own computer\n",
    "\n",
    "+ Import a dataset into your program\n",
    "\n",
    "+ Analyze a dataset by building out functions or class methods\n",
    "\n",
    "+ Use libraries to assist in your analysis\n",
    "\n",
    "+ Optional: Document and organize your findings\n",
    "\n",
    "+ Optional: Make predictions about a dataset’s features based on your findings\n",
    "\n",
    "## Datasets\n",
    "\n",
    "The dataset comes from [Kaggle Dataset - Medical Cost Personal Datasets](https://www.kaggle.com/mirichoi0218/insurance?select=insurance.csv).  It is a dataset thwt is in the public domain, but that was formatted to match the format used in the book 'Machine Learning with R'.\n",
    "\n",
    "It can be directly downloaded [here](https://raw.githubusercontent.com/stedy/Machine-Learning-with-R-datasets/master/insurance.csv)\n",
    "\n",
    "### Columns\n",
    "\n",
    "+ age: age of primary beneficiary\n",
    "\n",
    "\n",
    "+ sex: insurance contractor gender, female, male\n",
    "\n",
    "\n",
    "+ bmi: Body mass index, providing an understanding of body, weights that are relatively high or low relative to height, objective index of body weight (kg / m ^ 2) using the ratio of height to weight, ideally 18.5 to 24.9\n",
    "\n",
    "\n",
    "+ children: Number of children covered by health insurance / Number of dependents\n",
    "\n",
    "\n",
    "+ smoker: Smoking\n",
    "\n",
    "\n",
    "+ region: the beneficiary's residential area in the US, northeast, southeast, southwest, northwest.\n",
    "\n",
    "\n",
    "+ charges: Individual medical costs billed by health insurance\n",
    "\n"
   ]
  },
  {
   "cell_type": "code",
   "execution_count": null,
   "id": "4eff6294",
   "metadata": {},
   "outputs": [],
   "source": []
  }
 ],
 "metadata": {
  "kernelspec": {
   "display_name": "Python 3",
   "language": "python",
   "name": "python3"
  },
  "language_info": {
   "codemirror_mode": {
    "name": "ipython",
    "version": 3
   },
   "file_extension": ".py",
   "mimetype": "text/x-python",
   "name": "python",
   "nbconvert_exporter": "python",
   "pygments_lexer": "ipython3",
   "version": "3.9.1"
  }
 },
 "nbformat": 4,
 "nbformat_minor": 5
}
