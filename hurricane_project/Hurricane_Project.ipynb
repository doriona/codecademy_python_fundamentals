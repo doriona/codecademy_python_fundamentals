{
 "cells": [
  {
   "cell_type": "markdown",
   "id": "395ecc2e",
   "metadata": {},
   "source": [
    "# Python Fundamentals - Hurricane Project\n",
    "\n",
    "## About the dataset\n",
    "Data collected on the 34 strongest Atlantic hurricanes are provided in a series of lists. The data is organized such that the data at each index, from 0 to 33, corresponds to the same hurricane. The data includes:\n",
    "\n",
    "### damages\n",
    "Contains strings representing the total cost in USD caused by 34 category 5 hurricanes (wind speeds ≥ 157 mph (252 km/h )) in the Atlantic region. For some of the hurricanes, damage data was not recorded (`\"Damages not recorded\"`), while the rest are written in the format `\"Prefix-B/M\"`, where `B` stands for billions (1000000000) 10e9 and `M` stands for millions (1000000) 10e6.\n",
    "\n",
    "### names\n",
    "Names of the hurricanes\n",
    "\n",
    "### months \n",
    "Months in which the hurricanes occurred\n",
    "\n",
    "### years\n",
    "Years in which the hurricanes occurred\n",
    "\n",
    "### max_sustained_winds\n",
    "Maximum sustained winds (miles per hour) of the hurricanes\n",
    "\n",
    "### areas_affected\n",
    "List of different areas affected by each of the hurricanes\n",
    "\n",
    "### deaths\n",
    "Total number of deaths caused by each of the hurricanes\n",
    "\n",
    "### Source of dataset\n",
    "* Dataset downloaded from [codecademy](https://content.codecademy.com/PRO/independent-practice-projects/hurricane-analysis/hurricane_analysis_starting.zip)"
   ]
  },
  {
   "cell_type": "code",
   "execution_count": 1,
   "id": "d8f984f8",
   "metadata": {},
   "outputs": [],
   "source": [
    "# damages (USD($)) of hurricanes\n",
    "damages = ['Damages not recorded', '100M', 'Damages not recorded', '40M', '27.9M', '5M', 'Damages not recorded', '306M', '2M', '65.8M', '326M', '60.3M', '208M', '1.42B', '25.4M', 'Damages not recorded', '1.54B', '1.24B', '7.1B', '10B', '26.5B', '6.2B', '5.37B', '23.3B', '1.01B', '125B', '12B', '29.4B', '1.76B', '720M', '15.1B', '64.8B', '91.6B', '25.1B']\n",
    "# alt damages for testing damages == 0\n",
    "# damages = ['0', '100M', 'Damages not recorded', '40M', '27.9M', '5M', 'Damages not recorded', '306M', '2M', '65.8M', '326M', '60.3M', '208M', '1.42B', '25.4M', 'Damages not recorded', '1.54B', '1.24B', '7.1B', '10B', '26.5B', '6.2B', '5.37B', '23.3B', '1.01B', '125B', '12B', '29.4B', '1.76B', '720M', '15.1B', '64.8B', '91.6B', '25.1B']\n",
    "\n",
    "# names of hurricanes\n",
    "names = ['Cuba I', 'San Felipe II Okeechobee', 'Bahamas', 'Cuba II', 'CubaBrownsville', 'Tampico', 'Labor Day', 'New England', 'Carol', 'Janet', 'Carla', 'Hattie', 'Beulah', 'Camille', 'Edith', 'Anita', 'David', 'Allen', 'Gilbert', 'Hugo', 'Andrew', 'Mitch', 'Isabel', 'Ivan', 'Emily', 'Katrina', 'Rita', 'Wilma', 'Dean', 'Felix', 'Matthew', 'Irma', 'Maria', 'Michael']\n",
    "\n",
    "# months of hurricanes\n",
    "months = ['October', 'September', 'September', 'November', 'August', 'September', 'September', 'September', 'September', 'September', 'September', 'October', 'September', 'August', 'September', 'September', 'August', 'August', 'September', 'September', 'August', 'October', 'September', 'September', 'July', 'August', 'September', 'October', 'August', 'September', 'October', 'September', 'September', 'October']\n",
    "\n",
    "# years of hurricanes\n",
    "years = [1924, 1928, 1932, 1932, 1933, 1933, 1935, 1938, 1953, 1955, 1961, 1961, 1967, 1969, 1971, 1977, 1979, 1980, 1988, 1989, 1992, 1998, 2003, 2004, 2005, 2005, 2005, 2005, 2007, 2007, 2016, 2017, 2017, 2018]\n",
    "\n",
    "# maximum sustained winds (mph) of hurricanes\n",
    "max_sustained_winds = [165, 160, 160, 175, 160, 160, 185, 160, 160, 175, 175, 160, 160, 175, 160, 175, 175, 190, 185, 160, 175, 180, 165, 165, 160, 175, 180, 185, 175, 175, 165, 180, 175, 160]\n",
    "\n",
    "# areas affected by each hurricane\n",
    "areas_affected = [['Central America', 'Mexico', 'Cuba', 'Florida', 'The Bahamas'], ['Lesser Antilles', 'The Bahamas', 'United States East Coast', 'Atlantic Canada'], ['The Bahamas', 'Northeastern United States'], ['Lesser Antilles', 'Jamaica', 'Cayman Islands', 'Cuba', 'The Bahamas', 'Bermuda'], ['The Bahamas', 'Cuba', 'Florida', 'Texas', 'Tamaulipas'], ['Jamaica', 'Yucatn Peninsula'], ['The Bahamas', 'Florida', 'Georgia', 'The Carolinas', 'Virginia'], ['Southeastern United States', 'Northeastern United States', 'Southwestern Quebec'], ['Bermuda', 'New England', 'Atlantic Canada'], ['Lesser Antilles', 'Central America'], ['Texas', 'Louisiana', 'Midwestern United States'], ['Central America'], ['The Caribbean', 'Mexico', 'Texas'], ['Cuba', 'United States Gulf Coast'], ['The Caribbean', 'Central America', 'Mexico', 'United States Gulf Coast'], ['Mexico'], ['The Caribbean', 'United States East coast'], ['The Caribbean', 'Yucatn Peninsula', 'Mexico', 'South Texas'], ['Jamaica', 'Venezuela', 'Central America', 'Hispaniola', 'Mexico'], ['The Caribbean', 'United States East Coast'], ['The Bahamas', 'Florida', 'United States Gulf Coast'], ['Central America', 'Yucatn Peninsula', 'South Florida'], ['Greater Antilles', 'Bahamas', 'Eastern United States', 'Ontario'], ['The Caribbean', 'Venezuela', 'United States Gulf Coast'], ['Windward Islands', 'Jamaica', 'Mexico', 'Texas'], ['Bahamas', 'United States Gulf Coast'], ['Cuba', 'United States Gulf Coast'], ['Greater Antilles', 'Central America', 'Florida'], ['The Caribbean', 'Central America'], ['Nicaragua', 'Honduras'], ['Antilles', 'Venezuela', 'Colombia', 'United States East Coast', 'Atlantic Canada'], ['Cape Verde', 'The Caribbean', 'British Virgin Islands', 'U.S. Virgin Islands', 'Cuba', 'Florida'], ['Lesser Antilles', 'Virgin Islands', 'Puerto Rico', 'Dominican Republic', 'Turks and Caicos Islands'], ['Central America', 'United States Gulf Coast (especially Florida Panhandle)']]\n",
    "\n",
    "# deaths for each hurricane\n",
    "deaths = [90,4000,16,3103,179,184,408,682,5,1023,43,319,688,259,37,11,2068,269,318,107,65,19325,51,124,17,1836,125,87,45,133,603,138,3057,74]\n",
    "# alt death for testing deaths == 0\n",
    "# deaths = [0,4000,16,3103,179,184,408,682,5,1023,43,319,688,259,37,11,2068,269,318,107,65,19325,51,124,17,1836,125,87,45,133,603,138,3057,74]"
   ]
  },
  {
   "cell_type": "code",
   "execution_count": 2,
   "id": "44fd849f",
   "metadata": {
    "scrolled": true
   },
   "outputs": [
    {
     "name": "stdout",
     "output_type": "stream",
     "text": [
      "Names: 34\n",
      "Damages: 34\n",
      "Areas: 34\n",
      "Deaths: 34\n",
      "Max Winds: 34\n",
      "Years: 34\n"
     ]
    }
   ],
   "source": [
    "# Check input lists\n",
    "print(\"Names: {}\".format(len(names)))\n",
    "print(\"Damages: {}\".format(len(damages)))\n",
    "print(\"Areas: {}\".format(len(areas_affected)))\n",
    "print(\"Deaths: {}\".format(len(deaths)))\n",
    "print(\"Max Winds: {}\".format(len(max_sustained_winds)))\n",
    "print(\"Years: {}\".format(len(years)))"
   ]
  },
  {
   "cell_type": "markdown",
   "id": "ee809a8d",
   "metadata": {},
   "source": [
    "## Question 2\n",
    "Write a function that returns a new list of updated damages where the recorded data is converted to float values and the missing data is retained as \"Damages not recorded\"."
   ]
  },
  {
   "cell_type": "code",
   "execution_count": 3,
   "id": "e7a71242",
   "metadata": {},
   "outputs": [],
   "source": [
    "def update_damages(damages):\n",
    "    \"\"\"Convert damages to float numbers. Returns list\"\"\"\n",
    "    updated_damages = []\n",
    "    for damage in damages:\n",
    "        if damage == \"Damages not recorded\":\n",
    "            pass\n",
    "        elif 'M' in damage:\n",
    "            damage = float(damage.strip('M')) * 1000000\n",
    "        elif 'B' in damage:\n",
    "            damage = float(damage.strip('B')) * 1000000000 \n",
    "        else:\n",
    "            damage = float(damage)\n",
    "\n",
    "        updated_damages.append(damage)\n",
    "    return updated_damages"
   ]
  },
  {
   "cell_type": "code",
   "execution_count": 4,
   "id": "d0955559",
   "metadata": {},
   "outputs": [
    {
     "name": "stdout",
     "output_type": "stream",
     "text": [
      "['Damages not recorded', 100000000.0, 'Damages not recorded', 40000000.0, 27900000.0, 5000000.0, 'Damages not recorded', 306000000.0, 2000000.0, 65800000.0, 326000000.0, 60300000.0, 208000000.0, 1420000000.0, 25400000.0, 'Damages not recorded', 1540000000.0, 1240000000.0, 7100000000.0, 10000000000.0, 26500000000.0, 6200000000.0, 5370000000.0, 23300000000.0, 1010000000.0, 125000000000.0, 12000000000.0, 29400000000.0, 1760000000.0, 720000000.0, 15100000000.0, 64800000000.0, 91600000000.0, 25100000000.0]\n"
     ]
    }
   ],
   "source": [
    "updated_damages = update_damages(damages)\n",
    "print(updated_damages)"
   ]
  },
  {
   "cell_type": "markdown",
   "id": "3726ab81",
   "metadata": {},
   "source": [
    "## Question 3\n",
    "Write a function that constructs a dictionary made out of the lists, where the keys of the dictionary are the names of the hurricanes, and the values are dictionaries themselves containing a key for each piece of data (Name, Month, Year,Max Sustained Wind, Areas Affected, Damage, Death) about the hurricane.\n",
    "\n",
    "Thus the key \"Cuba I\" would have the value: \n",
    "```\n",
    "{'Name': 'Cuba I', 'Month': 'October', 'Year': 1924, 'Max Sustained Wind': 165, 'Areas Affected': ['Central America', 'Mexico', 'Cuba', 'Florida', 'The Bahamas'], 'Damage': 'Damages not recorded', 'Deaths': 90}.\n",
    "```"
   ]
  },
  {
   "cell_type": "code",
   "execution_count": 5,
   "id": "ea6ae604",
   "metadata": {},
   "outputs": [],
   "source": [
    "def make_dictionary(names, months, years, max_winds, areas, damages, deaths):\n",
    "    \"\"\"Returns a dictionary with name:{hurricane_data} as pairs\"\"\"\n",
    "    records = {}\n",
    "    for i in range(len(names)):\n",
    "        records[names[i]] = {\"Name\": names[i], \n",
    "                            'Month': months[i], \n",
    "                            'Year': years[i], \n",
    "                            'Max Sustained Wind': max_winds[i],\n",
    "                            'Areas Affected': areas[i],\n",
    "                            'Damage': damages[i],\n",
    "                            'Deaths': deaths[i]}\n",
    "    return records "
   ]
  },
  {
   "cell_type": "code",
   "execution_count": 6,
   "id": "18333950",
   "metadata": {},
   "outputs": [],
   "source": [
    "hurricane_records = make_dictionary(names, months, years, max_sustained_winds, areas_affected, updated_damages, deaths)"
   ]
  },
  {
   "cell_type": "code",
   "execution_count": 7,
   "id": "df3bfdfc",
   "metadata": {},
   "outputs": [
    {
     "name": "stdout",
     "output_type": "stream",
     "text": [
      "{'Name': 'Cuba I', 'Month': 'October', 'Year': 1924, 'Max Sustained Wind': 165, 'Areas Affected': ['Central America', 'Mexico', 'Cuba', 'Florida', 'The Bahamas'], 'Damage': 'Damages not recorded', 'Deaths': 90}\n",
      "34\n"
     ]
    }
   ],
   "source": [
    "print(hurricane_records['Cuba I'])\n",
    "print(len(hurricane_records.keys()))"
   ]
  },
  {
   "cell_type": "markdown",
   "id": "fdb65832",
   "metadata": {},
   "source": [
    "## Question 4\n",
    "In addition to organizing the hurricanes in a dictionary with names as the key, you want to be able to organize the hurricanes by year.\n",
    "\n",
    "Write a function that converts the current dictionary of hurricanes to a new dictionary, where the keys are years and the values are lists containing a dictionary for each hurricane that occurred in that year.\n",
    "\n",
    "For example, the key `1932` would yield the value:\n",
    "```\n",
    "[{'Name': 'Bahamas', 'Month': 'September', 'Year': 1932, 'Max Sustained Wind': 160, 'Areas Affected': ['The Bahamas', 'Northeastern United States'], 'Damage': 'Damages not recorded', 'Deaths': 16}, {'Name': 'Cuba II', 'Month': 'November', 'Year': 1932, 'Max Sustained Wind': 175, 'Areas Affected': ['Lesser Antilles', 'Jamaica', 'Cayman Islands', 'Cuba', 'The Bahamas', 'Bermuda'], 'Damage': 40000000.0, 'Deaths': 3103}].\n",
    "```"
   ]
  },
  {
   "cell_type": "code",
   "execution_count": 8,
   "id": "3aaed797",
   "metadata": {},
   "outputs": [],
   "source": [
    "def hurricanes_by_year(hurricane_dict):\n",
    "    \"\"\" Returns a dictionary with years:{records} as pairs \"\"\"\n",
    "    hurricanes_by_year = {}\n",
    "    for record in hurricane_dict.values():\n",
    "        year = record['Year']\n",
    "        if year not in hurricanes_by_year:\n",
    "            hurricanes_by_year[year] = [record]\n",
    "        else:\n",
    "            hurricanes_by_year[year].append(record)\n",
    "    return hurricanes_by_year"
   ]
  },
  {
   "cell_type": "code",
   "execution_count": 9,
   "id": "5e75f97d",
   "metadata": {},
   "outputs": [],
   "source": [
    "hurricane_records_year = hurricanes_by_year(hurricane_records)"
   ]
  },
  {
   "cell_type": "code",
   "execution_count": 10,
   "id": "09494503",
   "metadata": {},
   "outputs": [
    {
     "name": "stdout",
     "output_type": "stream",
     "text": [
      "[{'Name': 'Bahamas', 'Month': 'September', 'Year': 1932, 'Max Sustained Wind': 160, 'Areas Affected': ['The Bahamas', 'Northeastern United States'], 'Damage': 'Damages not recorded', 'Deaths': 16}, {'Name': 'Cuba II', 'Month': 'November', 'Year': 1932, 'Max Sustained Wind': 175, 'Areas Affected': ['Lesser Antilles', 'Jamaica', 'Cayman Islands', 'Cuba', 'The Bahamas', 'Bermuda'], 'Damage': 40000000.0, 'Deaths': 3103}]\n"
     ]
    }
   ],
   "source": [
    "print(hurricane_records_year[1932])"
   ]
  },
  {
   "cell_type": "markdown",
   "id": "461f0307",
   "metadata": {},
   "source": [
    "## Question 5\n",
    "You believe that knowing how often each of the areas of the Atlantic are affected by these strong hurricanes is important for making preparations for future hurricanes.\n",
    "\n",
    "Write a function that counts how often each area is listed as an affected area of a hurricane. Store and return the results in a dictionary where the keys are the affected areas and the values are counts of how many times the areas were affected."
   ]
  },
  {
   "cell_type": "code",
   "execution_count": 11,
   "id": "13be41bf",
   "metadata": {},
   "outputs": [],
   "source": [
    "def count_by_area(hurricane_dict):\n",
    "    \"\"\" Counts how often each area is listed as an affected area of a hurricane. Returns a dictionary with area:count pairs\"\"\"\n",
    "    hurricanes_by_area = {}\n",
    "    for record in hurricane_dict.values():\n",
    "        for area in record['Areas Affected']:\n",
    "            if area not in hurricanes_by_area:\n",
    "                hurricanes_by_area[area] = 1\n",
    "            else:\n",
    "                hurricanes_by_area[area] +=1\n",
    "    return hurricanes_by_area        "
   ]
  },
  {
   "cell_type": "code",
   "execution_count": 12,
   "id": "d3f97bcf",
   "metadata": {},
   "outputs": [],
   "source": [
    "hurricanes_by_area = count_by_area(hurricane_records)"
   ]
  },
  {
   "cell_type": "code",
   "execution_count": 13,
   "id": "1ee176b4",
   "metadata": {},
   "outputs": [
    {
     "data": {
      "text/plain": [
       "7"
      ]
     },
     "execution_count": 13,
     "metadata": {},
     "output_type": "execute_result"
    }
   ],
   "source": [
    "hurricanes_by_area['The Bahamas']"
   ]
  },
  {
   "cell_type": "markdown",
   "id": "57daae37",
   "metadata": {},
   "source": [
    "## Question 6\n",
    "Write a function that finds the area affected by the most hurricanes, and how often it was hit."
   ]
  },
  {
   "cell_type": "code",
   "execution_count": 14,
   "id": "89d81524",
   "metadata": {},
   "outputs": [],
   "source": [
    "def area_most_affected(hurricane_dict):\n",
    "    \"\"\"Returns the area most affected by hurricanes and how often was hit\"\"\"\n",
    "    hurricanes_by_area = count_by_area(hurricane_records)\n",
    "    max_hurricanes = max(hurricanes_by_area.values())\n",
    "    index_of_max = list(hurricanes_by_area.values()).index(max_hurricanes)\n",
    "    return list(hurricanes_by_area.items())[index_of_max]"
   ]
  },
  {
   "cell_type": "code",
   "execution_count": 15,
   "id": "29fcd54f",
   "metadata": {},
   "outputs": [
    {
     "data": {
      "text/plain": [
       "('Central America', 9)"
      ]
     },
     "execution_count": 15,
     "metadata": {},
     "output_type": "execute_result"
    }
   ],
   "source": [
    "area_most_affected(hurricane_records)"
   ]
  },
  {
   "cell_type": "markdown",
   "id": "5c935f20",
   "metadata": {},
   "source": [
    "## Question 7\n",
    "Write a function that finds the hurricane that caused the greatest number of deaths, and how many deaths it caused."
   ]
  },
  {
   "cell_type": "code",
   "execution_count": 16,
   "id": "835cf270",
   "metadata": {},
   "outputs": [],
   "source": [
    "def most_deaths(hurricane_dict):\n",
    "    \"\"\"Returns the hurricane that caused the most deaths and the num of deaths\"\"\"\n",
    "    max_deaths = 0\n",
    "    hurricane_name = ''\n",
    "    for name, record in hurricane_dict.items():\n",
    "        if record['Deaths'] > max_deaths: \n",
    "            max_deaths = record['Deaths']\n",
    "            hurricane_name = name\n",
    "    return hurricane_name, max_deaths"
   ]
  },
  {
   "cell_type": "code",
   "execution_count": 17,
   "id": "a7acf752",
   "metadata": {},
   "outputs": [
    {
     "data": {
      "text/plain": [
       "('Mitch', 19325)"
      ]
     },
     "execution_count": 17,
     "metadata": {},
     "output_type": "execute_result"
    }
   ],
   "source": [
    "most_deaths(hurricane_records)"
   ]
  },
  {
   "cell_type": "markdown",
   "id": "09b73182",
   "metadata": {},
   "source": [
    "Another option, making it more general. The following two functions look for the maximum value in any the key of the records (that has numbers as values)"
   ]
  },
  {
   "cell_type": "code",
   "execution_count": 18,
   "id": "c66cd9b3",
   "metadata": {},
   "outputs": [],
   "source": [
    "def subdict_by_name(hurricane_dict, key):\n",
    "    \"\"\"Simplifies to a dictionary with the name as key and the value for one data categories\"\"\"\n",
    "    name_dict = {}\n",
    "    for name, record in hurricane_dict.items():\n",
    "        name_dict[name] = record[key]\n",
    "    return name_dict        "
   ]
  },
  {
   "cell_type": "code",
   "execution_count": 19,
   "id": "649c8fc8",
   "metadata": {},
   "outputs": [],
   "source": [
    "def most_by_key(hurricane_dict, key):\n",
    "    \"\"\"For items in the dictionary with numbers as values it finds the maximun value for that key. It returns a pair (name, value)\"\"\"\n",
    "    name_dict = subdict_by_name(hurricane_dict, key)\n",
    "    max_value = max(name_dict.values())\n",
    "    index_of_max_value = list(name_dict.values()).index(max_value)\n",
    "    return list(name_dict.items())[index_of_max_value]"
   ]
  },
  {
   "cell_type": "code",
   "execution_count": 20,
   "id": "37bcd694",
   "metadata": {
    "scrolled": true
   },
   "outputs": [
    {
     "data": {
      "text/plain": [
       "('Mitch', 19325)"
      ]
     },
     "execution_count": 20,
     "metadata": {},
     "output_type": "execute_result"
    }
   ],
   "source": [
    "most_by_key(hurricane_records, 'Deaths')"
   ]
  },
  {
   "cell_type": "markdown",
   "id": "473dc196",
   "metadata": {},
   "source": [
    "## Question 8\n",
    "Just as hurricanes are rated by their windspeed, you want to try rating hurricanes based on other metrics.\n",
    "\n",
    "Write a function that rates hurricanes on a mortality scale according to the following ratings, where the key is the rating and the value is the upper bound of deaths for that rating.\n",
    "```\n",
    "mortality_scale = {0: 0,\n",
    "                   1: 100,\n",
    "                   2: 500,\n",
    "                   3: 1000,\n",
    "                   4: 10000}\n",
    "```\n",
    "For example, a hurricane with a 1 mortality rating would have resulted in greater than 0 but less than or equal to 100 deaths. A hurricane with a 5 mortality rating would have resulted in greater than 10000 deaths.\n",
    "\n",
    "Store the hurricanes in a new dictionary where the keys are mortality ratings and the values are lists containing a dictionary for each hurricane that falls into that mortality rating."
   ]
  },
  {
   "cell_type": "code",
   "execution_count": 21,
   "id": "c07268f1",
   "metadata": {},
   "outputs": [],
   "source": [
    "def mortality_rating(hurricane_dict):\n",
    "    \"\"\"Groups hurricanes by number of deaths and returns a dictionary with mortality_scale:[hurricanes] as pairs\"\"\"\n",
    "    hurricane_by_deaths = {0:[],1:[],2:[],3:[],4:[],5:[]}\n",
    "    mortality_scale = {0: 0,\n",
    "                   1: 100,\n",
    "                   2: 500,\n",
    "                   3: 1000,\n",
    "                   4: 10000}\n",
    "    deaths_dict = subdict_by_name(hurricane_dict, 'Deaths')\n",
    "    for name, deaths in deaths_dict.items():\n",
    "        some_deaths = False \n",
    "        for index in range(4, -1, -1):\n",
    "            if deaths > mortality_scale[index]:\n",
    "                hurricane_by_deaths[index + 1].append(name)\n",
    "                some_deaths = True\n",
    "                break\n",
    "        # catch for zero deaths\n",
    "        if not some_deaths: hurricane_by_deaths[0].append(name)\n",
    "    return hurricane_by_deaths"
   ]
  },
  {
   "cell_type": "code",
   "execution_count": 22,
   "id": "3a688dfb",
   "metadata": {},
   "outputs": [
    {
     "data": {
      "text/plain": [
       "[4, 3, 2, 1, 0]"
      ]
     },
     "execution_count": 22,
     "metadata": {},
     "output_type": "execute_result"
    }
   ],
   "source": [
    "list(range(4, -1, -1))"
   ]
  },
  {
   "cell_type": "code",
   "execution_count": 23,
   "id": "3e09e462",
   "metadata": {},
   "outputs": [],
   "source": [
    "hurricane_scale_by_deaths = mortality_rating(hurricane_records)"
   ]
  },
  {
   "cell_type": "markdown",
   "id": "b1bd0ae7",
   "metadata": {},
   "source": [
    "Some tests:"
   ]
  },
  {
   "cell_type": "code",
   "execution_count": 24,
   "id": "8bba1316",
   "metadata": {
    "scrolled": false
   },
   "outputs": [
    {
     "name": "stdout",
     "output_type": "stream",
     "text": [
      "{'Name': 'Cuba II', 'Month': 'November', 'Year': 1932, 'Max Sustained Wind': 175, 'Areas Affected': ['Lesser Antilles', 'Jamaica', 'Cayman Islands', 'Cuba', 'The Bahamas', 'Bermuda'], 'Damage': 40000000.0, 'Deaths': 3103}\n"
     ]
    },
    {
     "data": {
      "text/plain": [
       "['San Felipe II Okeechobee', 'Cuba II', 'Janet', 'David', 'Katrina', 'Maria']"
      ]
     },
     "execution_count": 24,
     "metadata": {},
     "output_type": "execute_result"
    }
   ],
   "source": [
    "print(hurricane_records['Cuba II'])\n",
    "hurricane_scale_by_deaths[4]"
   ]
  },
  {
   "cell_type": "code",
   "execution_count": 25,
   "id": "c56562e8",
   "metadata": {},
   "outputs": [
    {
     "name": "stdout",
     "output_type": "stream",
     "text": [
      "{'Name': 'Bahamas', 'Month': 'September', 'Year': 1932, 'Max Sustained Wind': 160, 'Areas Affected': ['The Bahamas', 'Northeastern United States'], 'Damage': 'Damages not recorded', 'Deaths': 16}\n"
     ]
    },
    {
     "data": {
      "text/plain": [
       "['Cuba I',\n",
       " 'Bahamas',\n",
       " 'Carol',\n",
       " 'Carla',\n",
       " 'Edith',\n",
       " 'Anita',\n",
       " 'Andrew',\n",
       " 'Isabel',\n",
       " 'Emily',\n",
       " 'Wilma',\n",
       " 'Dean',\n",
       " 'Michael']"
      ]
     },
     "execution_count": 25,
     "metadata": {},
     "output_type": "execute_result"
    }
   ],
   "source": [
    "print(hurricane_records['Bahamas'])\n",
    "hurricane_scale_by_deaths[1]"
   ]
  },
  {
   "cell_type": "markdown",
   "id": "2de4329b",
   "metadata": {},
   "source": [
    "## Question 9\n",
    "Write a function that finds the hurricane that caused the greatest damage, and how costly it was.\n",
    "\n",
    "Note: I'm using a dictionary comprehension with if|else:\n",
    "```\n",
    "{ (name): (a if condition else b) for key, value in dict.items()}\n",
    "```\n",
    "\n",
    "I am not considering the hurricanes with \"Damages not recorded\""
   ]
  },
  {
   "cell_type": "code",
   "execution_count": 26,
   "id": "40ccda82",
   "metadata": {},
   "outputs": [],
   "source": [
    "def most_damages(hurricane_dict):\n",
    "    \"\"\"Returns the name of the hurricane with most damages (name, damage). Hurricanes with \"Damages not recorded\" are not considered\"\"\"\n",
    "    \n",
    "    name_dict = subdict_by_name(hurricane_dict, 'Damage')\n",
    "    #for name, damage in name_dict.items():\n",
    "    #    if damage == \"Damages not recorded\":\n",
    "    #        name_dict[name] = 0\n",
    "    name_dict_fixed = { ( name ): (0 if damage == \"Damages not recorded\" else damage) for name,damage in name_dict.items()}\n",
    "    # print(name_dict_fixed)\n",
    "    max_damage = max(name_dict_fixed.values())\n",
    "    index_max_damage = list(name_dict_fixed.values()).index(max_damage)\n",
    "    return list(name_dict_fixed.items())[index_max_damage]"
   ]
  },
  {
   "cell_type": "code",
   "execution_count": 27,
   "id": "591a628b",
   "metadata": {},
   "outputs": [
    {
     "data": {
      "text/plain": [
       "('Katrina', 125000000000.0)"
      ]
     },
     "execution_count": 27,
     "metadata": {},
     "output_type": "execute_result"
    }
   ],
   "source": [
    "most_damages(hurricane_records)"
   ]
  },
  {
   "cell_type": "markdown",
   "id": "ec7f5170",
   "metadata": {},
   "source": [
    "## Question 10\n",
    "\n",
    "Lastly, you want to rate hurricanes according to how much damage they cause.\n",
    "\n",
    "Write a function that rates hurricanes on a damage scale according to the following ratings, where the key is the rating and the value is the upper bound of damage for that rating.\n",
    "```\n",
    "damage_scale = {0: 0,\n",
    "                1: 100000000,\n",
    "                2: 1000000000,\n",
    "                3: 10000000000,\n",
    "                4: 50000000000}\n",
    "```\n",
    "For example, a hurricane with a 1 damage rating would have resulted in damages greater than 0 USD but less than or equal to 100000000 USD. A hurricane with a 5 damage rating would have resulted in damages greater than 50000000000 USD (talk about a lot of money).\n",
    "\n",
    "Store the hurricanes in a new dictionary where the keys are damage ratings and the values are lists containing a dictionary for each hurricane that falls into that damage rating."
   ]
  },
  {
   "cell_type": "code",
   "execution_count": 28,
   "id": "893f3154",
   "metadata": {},
   "outputs": [],
   "source": [
    "def damages_rating(hurricane_dict):\n",
    "    # Returns a dictionary with pairs damage_rating:list_of_hurricanes\n",
    "    hurricane_by_damage = {0:[],1:[],2:[],3:[],4:[],5:[],'Not Recorded':[]}\n",
    "    damage_scale = {0: 0,\n",
    "                1: 100000000,\n",
    "                2: 1000000000,\n",
    "                3: 10000000000,\n",
    "                4: 50000000000}\n",
    "    damages_dict = subdict_by_name(hurricane_dict, 'Damage')\n",
    "    for name, damage in damages_dict.items():\n",
    "        some_damage = False\n",
    "        for index in range(4, -1, -1):\n",
    "            if damage == \"Damages not recorded\":\n",
    "                hurricane_by_damage['Not Recorded'].append(name)\n",
    "                some_damage = True\n",
    "                break\n",
    "            elif damage > damage_scale[index]:\n",
    "                hurricane_by_damage[index + 1].append(name)\n",
    "                some_damage = True\n",
    "                break\n",
    "        # catch damages == 0\n",
    "        if some_damage == False: hurricane_by_damage[0].append(name)\n",
    "    return hurricane_by_damage"
   ]
  },
  {
   "cell_type": "code",
   "execution_count": 29,
   "id": "f22ead52",
   "metadata": {},
   "outputs": [
    {
     "name": "stdout",
     "output_type": "stream",
     "text": [
      "{0: [], 1: ['San Felipe II Okeechobee', 'Cuba II', 'CubaBrownsville', 'Tampico', 'Carol', 'Janet', 'Hattie', 'Edith'], 2: ['New England', 'Carla', 'Beulah', 'Felix'], 3: ['Camille', 'David', 'Allen', 'Gilbert', 'Hugo', 'Mitch', 'Isabel', 'Emily', 'Dean'], 4: ['Andrew', 'Ivan', 'Rita', 'Wilma', 'Matthew', 'Michael'], 5: ['Katrina', 'Irma', 'Maria'], 'Not Recorded': ['Cuba I', 'Bahamas', 'Labor Day', 'Anita']}\n"
     ]
    }
   ],
   "source": [
    "hurricane_scale_by_damages = damages_rating(hurricane_records)\n",
    "print(hurricane_scale_by_damages)"
   ]
  },
  {
   "cell_type": "markdown",
   "id": "3e3014cb",
   "metadata": {},
   "source": [
    "Some tests:"
   ]
  },
  {
   "cell_type": "code",
   "execution_count": 30,
   "id": "9de18386",
   "metadata": {},
   "outputs": [
    {
     "name": "stdout",
     "output_type": "stream",
     "text": [
      "['San Felipe II Okeechobee', 'Cuba II', 'CubaBrownsville', 'Tampico', 'Carol', 'Janet', 'Hattie', 'Edith']\n",
      "{'Name': 'Cuba II', 'Month': 'November', 'Year': 1932, 'Max Sustained Wind': 175, 'Areas Affected': ['Lesser Antilles', 'Jamaica', 'Cayman Islands', 'Cuba', 'The Bahamas', 'Bermuda'], 'Damage': 40000000.0, 'Deaths': 3103}\n"
     ]
    }
   ],
   "source": [
    "print(hurricane_scale_by_damages[1])\n",
    "print(hurricane_records['Cuba II'])"
   ]
  },
  {
   "cell_type": "markdown",
   "id": "ee6707f9",
   "metadata": {},
   "source": [
    "Check if we are using all the values in the dictionary:"
   ]
  },
  {
   "cell_type": "code",
   "execution_count": 31,
   "id": "c49a685f",
   "metadata": {},
   "outputs": [
    {
     "name": "stdout",
     "output_type": "stream",
     "text": [
      "Total Counted: 34\n",
      "Not Recorded: 4\n",
      "Total in dataset: 34\n"
     ]
    }
   ],
   "source": [
    "total_counted = 0\n",
    "for hurricanes in hurricane_scale_by_damages.values():\n",
    "    total_counted += len(hurricanes)\n",
    "print(\"Total Counted: {}\".format(total_counted))\n",
    "print(\"Not Recorded: {}\".format(updated_damages.count(\"Damages not recorded\")))\n",
    "print(\"Total in dataset: {}\".format(len(names)))"
   ]
  },
  {
   "cell_type": "markdown",
   "id": "cd28b423",
   "metadata": {},
   "source": [
    "## References\n",
    "* [Python: Retrieve the Index of the Max Value in a List](https://careerkarma.com/blog/python-max-index/)\n",
    "\n",
    "* [Stackoverflow - Python dictionary: are keys() and values() always the same order?](https://stackoverflow.com/questions/835092/python-dictionary-are-keys-and-values-always-the-same-order)\n",
    "\n",
    "* [How can I use if/else in a dictionary comprehension?](https://stackoverflow.com/questions/9442724/how-can-i-use-if-else-in-a-dictionary-comprehension)"
   ]
  }
 ],
 "metadata": {
  "kernelspec": {
   "display_name": "Python 3",
   "language": "python",
   "name": "python3"
  },
  "language_info": {
   "codemirror_mode": {
    "name": "ipython",
    "version": 3
   },
   "file_extension": ".py",
   "mimetype": "text/x-python",
   "name": "python",
   "nbconvert_exporter": "python",
   "pygments_lexer": "ipython3",
   "version": "3.9.1"
  }
 },
 "nbformat": 4,
 "nbformat_minor": 5
}
